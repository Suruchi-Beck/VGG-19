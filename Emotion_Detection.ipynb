{
  "nbformat": 4,
  "nbformat_minor": 0,
  "metadata": {
    "colab": {
      "provenance": [],
      "gpuType": "T4"
    },
    "kernelspec": {
      "name": "python3",
      "display_name": "Python 3"
    },
    "language_info": {
      "name": "python"
    },
    "accelerator": "GPU"
  },
  "cells": [
    {
      "cell_type": "markdown",
      "source": [
        "Fer2013 dataset is a common dataset used for facial expression recognition. The dataset contains 35,887 grayscale facial images containing 7 different emotions (anger, disgust, fear, happiness, neutral, sad, and surprise).\n",
        "\n"
      ],
      "metadata": {
        "id": "qjQzhhESyw7_"
      }
    },
    {
      "cell_type": "code",
      "execution_count": null,
      "metadata": {
        "id": "-GvWEt9gxLUc"
      },
      "outputs": [],
      "source": [
        "import math\n",
        "import numpy as np\n",
        "import pandas as pd\n",
        "\n",
        "import cv2\n",
        "import seaborn as sns\n",
        "from matplotlib import pyplot\n",
        "\n",
        "from sklearn.model_selection import train_test_split\n",
        "from sklearn.preprocessing import LabelEncoder\n",
        "from sklearn.metrics import classification_report\n",
        "\n",
        "import tensorflow as tf\n",
        "from tensorflow.keras import optimizers\n",
        "from tensorflow.keras.models import Model\n",
        "from tensorflow.keras.layers import Flatten, Dense, Conv2D, GlobalAveragePooling2D\n",
        "from tensorflow.keras.layers import Dropout, BatchNormalization, Activation\n",
        "from tensorflow.keras.callbacks import Callback, EarlyStopping, ReduceLROnPlateau\n",
        "from tensorflow.keras.preprocessing.image import ImageDataGenerator\n",
        "\n",
        "#from tensorflow.keras.utils import np_utils\n"
      ]
    },
    {
      "cell_type": "code",
      "source": [
        "from google.colab import drive\n",
        "drive.mount('/content/drive')"
      ],
      "metadata": {
        "id": "nzH61AAVyMOy",
        "colab": {
          "base_uri": "https://localhost:8080/"
        },
        "outputId": "752d4c11-43c5-416d-c654-bb3a4e637de7"
      },
      "execution_count": null,
      "outputs": [
        {
          "output_type": "stream",
          "name": "stdout",
          "text": [
            "Mounted at /content/drive\n"
          ]
        }
      ]
    },
    {
      "cell_type": "code",
      "source": [
        "file_path = '/content/drive/MyDrive/DeepLeaningDataset/fer2013.csv'\n",
        "data = pd.read_csv(file_path)"
      ],
      "metadata": {
        "id": "kv9aBLDT0w4m"
      },
      "execution_count": null,
      "outputs": []
    },
    {
      "cell_type": "code",
      "source": [
        "data"
      ],
      "metadata": {
        "id": "0dm2EyvB1K0p",
        "colab": {
          "base_uri": "https://localhost:8080/",
          "height": 424
        },
        "outputId": "c8e89d87-98c3-43b7-9fd5-1aad5f750c33"
      },
      "execution_count": null,
      "outputs": [
        {
          "output_type": "execute_result",
          "data": {
            "text/plain": [
              "       emotion                                             pixels        Usage\n",
              "0            0  70 80 82 72 58 58 60 63 54 58 60 48 89 115 121...     Training\n",
              "1            0  151 150 147 155 148 133 111 140 170 174 182 15...     Training\n",
              "2            2  231 212 156 164 174 138 161 173 182 200 106 38...     Training\n",
              "3            4  24 32 36 30 32 23 19 20 30 41 21 22 32 34 21 1...     Training\n",
              "4            6  4 0 0 0 0 0 0 0 0 0 0 0 3 15 23 28 48 50 58 84...     Training\n",
              "...        ...                                                ...          ...\n",
              "35882        6  50 36 17 22 23 29 33 39 34 37 37 37 39 43 48 5...  PrivateTest\n",
              "35883        3  178 174 172 173 181 188 191 194 196 199 200 20...  PrivateTest\n",
              "35884        0  17 17 16 23 28 22 19 17 25 26 20 24 31 19 27 9...  PrivateTest\n",
              "35885        3  30 28 28 29 31 30 42 68 79 81 77 67 67 71 63 6...  PrivateTest\n",
              "35886        2  19 13 14 12 13 16 21 33 50 57 71 84 97 108 122...  PrivateTest\n",
              "\n",
              "[35887 rows x 3 columns]"
            ],
            "text/html": [
              "\n",
              "  <div id=\"df-18e62cae-7e03-40d8-aa2f-c418d4c577ce\" class=\"colab-df-container\">\n",
              "    <div>\n",
              "<style scoped>\n",
              "    .dataframe tbody tr th:only-of-type {\n",
              "        vertical-align: middle;\n",
              "    }\n",
              "\n",
              "    .dataframe tbody tr th {\n",
              "        vertical-align: top;\n",
              "    }\n",
              "\n",
              "    .dataframe thead th {\n",
              "        text-align: right;\n",
              "    }\n",
              "</style>\n",
              "<table border=\"1\" class=\"dataframe\">\n",
              "  <thead>\n",
              "    <tr style=\"text-align: right;\">\n",
              "      <th></th>\n",
              "      <th>emotion</th>\n",
              "      <th>pixels</th>\n",
              "      <th>Usage</th>\n",
              "    </tr>\n",
              "  </thead>\n",
              "  <tbody>\n",
              "    <tr>\n",
              "      <th>0</th>\n",
              "      <td>0</td>\n",
              "      <td>70 80 82 72 58 58 60 63 54 58 60 48 89 115 121...</td>\n",
              "      <td>Training</td>\n",
              "    </tr>\n",
              "    <tr>\n",
              "      <th>1</th>\n",
              "      <td>0</td>\n",
              "      <td>151 150 147 155 148 133 111 140 170 174 182 15...</td>\n",
              "      <td>Training</td>\n",
              "    </tr>\n",
              "    <tr>\n",
              "      <th>2</th>\n",
              "      <td>2</td>\n",
              "      <td>231 212 156 164 174 138 161 173 182 200 106 38...</td>\n",
              "      <td>Training</td>\n",
              "    </tr>\n",
              "    <tr>\n",
              "      <th>3</th>\n",
              "      <td>4</td>\n",
              "      <td>24 32 36 30 32 23 19 20 30 41 21 22 32 34 21 1...</td>\n",
              "      <td>Training</td>\n",
              "    </tr>\n",
              "    <tr>\n",
              "      <th>4</th>\n",
              "      <td>6</td>\n",
              "      <td>4 0 0 0 0 0 0 0 0 0 0 0 3 15 23 28 48 50 58 84...</td>\n",
              "      <td>Training</td>\n",
              "    </tr>\n",
              "    <tr>\n",
              "      <th>...</th>\n",
              "      <td>...</td>\n",
              "      <td>...</td>\n",
              "      <td>...</td>\n",
              "    </tr>\n",
              "    <tr>\n",
              "      <th>35882</th>\n",
              "      <td>6</td>\n",
              "      <td>50 36 17 22 23 29 33 39 34 37 37 37 39 43 48 5...</td>\n",
              "      <td>PrivateTest</td>\n",
              "    </tr>\n",
              "    <tr>\n",
              "      <th>35883</th>\n",
              "      <td>3</td>\n",
              "      <td>178 174 172 173 181 188 191 194 196 199 200 20...</td>\n",
              "      <td>PrivateTest</td>\n",
              "    </tr>\n",
              "    <tr>\n",
              "      <th>35884</th>\n",
              "      <td>0</td>\n",
              "      <td>17 17 16 23 28 22 19 17 25 26 20 24 31 19 27 9...</td>\n",
              "      <td>PrivateTest</td>\n",
              "    </tr>\n",
              "    <tr>\n",
              "      <th>35885</th>\n",
              "      <td>3</td>\n",
              "      <td>30 28 28 29 31 30 42 68 79 81 77 67 67 71 63 6...</td>\n",
              "      <td>PrivateTest</td>\n",
              "    </tr>\n",
              "    <tr>\n",
              "      <th>35886</th>\n",
              "      <td>2</td>\n",
              "      <td>19 13 14 12 13 16 21 33 50 57 71 84 97 108 122...</td>\n",
              "      <td>PrivateTest</td>\n",
              "    </tr>\n",
              "  </tbody>\n",
              "</table>\n",
              "<p>35887 rows × 3 columns</p>\n",
              "</div>\n",
              "    <div class=\"colab-df-buttons\">\n",
              "\n",
              "  <div class=\"colab-df-container\">\n",
              "    <button class=\"colab-df-convert\" onclick=\"convertToInteractive('df-18e62cae-7e03-40d8-aa2f-c418d4c577ce')\"\n",
              "            title=\"Convert this dataframe to an interactive table.\"\n",
              "            style=\"display:none;\">\n",
              "\n",
              "  <svg xmlns=\"http://www.w3.org/2000/svg\" height=\"24px\" viewBox=\"0 -960 960 960\">\n",
              "    <path d=\"M120-120v-720h720v720H120Zm60-500h600v-160H180v160Zm220 220h160v-160H400v160Zm0 220h160v-160H400v160ZM180-400h160v-160H180v160Zm440 0h160v-160H620v160ZM180-180h160v-160H180v160Zm440 0h160v-160H620v160Z\"/>\n",
              "  </svg>\n",
              "    </button>\n",
              "\n",
              "  <style>\n",
              "    .colab-df-container {\n",
              "      display:flex;\n",
              "      gap: 12px;\n",
              "    }\n",
              "\n",
              "    .colab-df-convert {\n",
              "      background-color: #E8F0FE;\n",
              "      border: none;\n",
              "      border-radius: 50%;\n",
              "      cursor: pointer;\n",
              "      display: none;\n",
              "      fill: #1967D2;\n",
              "      height: 32px;\n",
              "      padding: 0 0 0 0;\n",
              "      width: 32px;\n",
              "    }\n",
              "\n",
              "    .colab-df-convert:hover {\n",
              "      background-color: #E2EBFA;\n",
              "      box-shadow: 0px 1px 2px rgba(60, 64, 67, 0.3), 0px 1px 3px 1px rgba(60, 64, 67, 0.15);\n",
              "      fill: #174EA6;\n",
              "    }\n",
              "\n",
              "    .colab-df-buttons div {\n",
              "      margin-bottom: 4px;\n",
              "    }\n",
              "\n",
              "    [theme=dark] .colab-df-convert {\n",
              "      background-color: #3B4455;\n",
              "      fill: #D2E3FC;\n",
              "    }\n",
              "\n",
              "    [theme=dark] .colab-df-convert:hover {\n",
              "      background-color: #434B5C;\n",
              "      box-shadow: 0px 1px 3px 1px rgba(0, 0, 0, 0.15);\n",
              "      filter: drop-shadow(0px 1px 2px rgba(0, 0, 0, 0.3));\n",
              "      fill: #FFFFFF;\n",
              "    }\n",
              "  </style>\n",
              "\n",
              "    <script>\n",
              "      const buttonEl =\n",
              "        document.querySelector('#df-18e62cae-7e03-40d8-aa2f-c418d4c577ce button.colab-df-convert');\n",
              "      buttonEl.style.display =\n",
              "        google.colab.kernel.accessAllowed ? 'block' : 'none';\n",
              "\n",
              "      async function convertToInteractive(key) {\n",
              "        const element = document.querySelector('#df-18e62cae-7e03-40d8-aa2f-c418d4c577ce');\n",
              "        const dataTable =\n",
              "          await google.colab.kernel.invokeFunction('convertToInteractive',\n",
              "                                                    [key], {});\n",
              "        if (!dataTable) return;\n",
              "\n",
              "        const docLinkHtml = 'Like what you see? Visit the ' +\n",
              "          '<a target=\"_blank\" href=https://colab.research.google.com/notebooks/data_table.ipynb>data table notebook</a>'\n",
              "          + ' to learn more about interactive tables.';\n",
              "        element.innerHTML = '';\n",
              "        dataTable['output_type'] = 'display_data';\n",
              "        await google.colab.output.renderOutput(dataTable, element);\n",
              "        const docLink = document.createElement('div');\n",
              "        docLink.innerHTML = docLinkHtml;\n",
              "        element.appendChild(docLink);\n",
              "      }\n",
              "    </script>\n",
              "  </div>\n",
              "\n",
              "\n",
              "<div id=\"df-0447e96b-69a3-427d-b1b2-ae7d1bc3d1a3\">\n",
              "  <button class=\"colab-df-quickchart\" onclick=\"quickchart('df-0447e96b-69a3-427d-b1b2-ae7d1bc3d1a3')\"\n",
              "            title=\"Suggest charts.\"\n",
              "            style=\"display:none;\">\n",
              "\n",
              "<svg xmlns=\"http://www.w3.org/2000/svg\" height=\"24px\"viewBox=\"0 0 24 24\"\n",
              "     width=\"24px\">\n",
              "    <g>\n",
              "        <path d=\"M19 3H5c-1.1 0-2 .9-2 2v14c0 1.1.9 2 2 2h14c1.1 0 2-.9 2-2V5c0-1.1-.9-2-2-2zM9 17H7v-7h2v7zm4 0h-2V7h2v10zm4 0h-2v-4h2v4z\"/>\n",
              "    </g>\n",
              "</svg>\n",
              "  </button>\n",
              "\n",
              "<style>\n",
              "  .colab-df-quickchart {\n",
              "      --bg-color: #E8F0FE;\n",
              "      --fill-color: #1967D2;\n",
              "      --hover-bg-color: #E2EBFA;\n",
              "      --hover-fill-color: #174EA6;\n",
              "      --disabled-fill-color: #AAA;\n",
              "      --disabled-bg-color: #DDD;\n",
              "  }\n",
              "\n",
              "  [theme=dark] .colab-df-quickchart {\n",
              "      --bg-color: #3B4455;\n",
              "      --fill-color: #D2E3FC;\n",
              "      --hover-bg-color: #434B5C;\n",
              "      --hover-fill-color: #FFFFFF;\n",
              "      --disabled-bg-color: #3B4455;\n",
              "      --disabled-fill-color: #666;\n",
              "  }\n",
              "\n",
              "  .colab-df-quickchart {\n",
              "    background-color: var(--bg-color);\n",
              "    border: none;\n",
              "    border-radius: 50%;\n",
              "    cursor: pointer;\n",
              "    display: none;\n",
              "    fill: var(--fill-color);\n",
              "    height: 32px;\n",
              "    padding: 0;\n",
              "    width: 32px;\n",
              "  }\n",
              "\n",
              "  .colab-df-quickchart:hover {\n",
              "    background-color: var(--hover-bg-color);\n",
              "    box-shadow: 0 1px 2px rgba(60, 64, 67, 0.3), 0 1px 3px 1px rgba(60, 64, 67, 0.15);\n",
              "    fill: var(--button-hover-fill-color);\n",
              "  }\n",
              "\n",
              "  .colab-df-quickchart-complete:disabled,\n",
              "  .colab-df-quickchart-complete:disabled:hover {\n",
              "    background-color: var(--disabled-bg-color);\n",
              "    fill: var(--disabled-fill-color);\n",
              "    box-shadow: none;\n",
              "  }\n",
              "\n",
              "  .colab-df-spinner {\n",
              "    border: 2px solid var(--fill-color);\n",
              "    border-color: transparent;\n",
              "    border-bottom-color: var(--fill-color);\n",
              "    animation:\n",
              "      spin 1s steps(1) infinite;\n",
              "  }\n",
              "\n",
              "  @keyframes spin {\n",
              "    0% {\n",
              "      border-color: transparent;\n",
              "      border-bottom-color: var(--fill-color);\n",
              "      border-left-color: var(--fill-color);\n",
              "    }\n",
              "    20% {\n",
              "      border-color: transparent;\n",
              "      border-left-color: var(--fill-color);\n",
              "      border-top-color: var(--fill-color);\n",
              "    }\n",
              "    30% {\n",
              "      border-color: transparent;\n",
              "      border-left-color: var(--fill-color);\n",
              "      border-top-color: var(--fill-color);\n",
              "      border-right-color: var(--fill-color);\n",
              "    }\n",
              "    40% {\n",
              "      border-color: transparent;\n",
              "      border-right-color: var(--fill-color);\n",
              "      border-top-color: var(--fill-color);\n",
              "    }\n",
              "    60% {\n",
              "      border-color: transparent;\n",
              "      border-right-color: var(--fill-color);\n",
              "    }\n",
              "    80% {\n",
              "      border-color: transparent;\n",
              "      border-right-color: var(--fill-color);\n",
              "      border-bottom-color: var(--fill-color);\n",
              "    }\n",
              "    90% {\n",
              "      border-color: transparent;\n",
              "      border-bottom-color: var(--fill-color);\n",
              "    }\n",
              "  }\n",
              "</style>\n",
              "\n",
              "  <script>\n",
              "    async function quickchart(key) {\n",
              "      const quickchartButtonEl =\n",
              "        document.querySelector('#' + key + ' button');\n",
              "      quickchartButtonEl.disabled = true;  // To prevent multiple clicks.\n",
              "      quickchartButtonEl.classList.add('colab-df-spinner');\n",
              "      try {\n",
              "        const charts = await google.colab.kernel.invokeFunction(\n",
              "            'suggestCharts', [key], {});\n",
              "      } catch (error) {\n",
              "        console.error('Error during call to suggestCharts:', error);\n",
              "      }\n",
              "      quickchartButtonEl.classList.remove('colab-df-spinner');\n",
              "      quickchartButtonEl.classList.add('colab-df-quickchart-complete');\n",
              "    }\n",
              "    (() => {\n",
              "      let quickchartButtonEl =\n",
              "        document.querySelector('#df-0447e96b-69a3-427d-b1b2-ae7d1bc3d1a3 button');\n",
              "      quickchartButtonEl.style.display =\n",
              "        google.colab.kernel.accessAllowed ? 'block' : 'none';\n",
              "    })();\n",
              "  </script>\n",
              "</div>\n",
              "    </div>\n",
              "  </div>\n"
            ]
          },
          "metadata": {},
          "execution_count": 8
        }
      ]
    },
    {
      "cell_type": "code",
      "source": [
        "data.emotion.unique()"
      ],
      "metadata": {
        "id": "qNDg__w99H7i",
        "colab": {
          "base_uri": "https://localhost:8080/"
        },
        "outputId": "1397178d-aa01-40d8-994e-1f9b9c44d82b"
      },
      "execution_count": null,
      "outputs": [
        {
          "output_type": "execute_result",
          "data": {
            "text/plain": [
              "array([0, 2, 4, 6, 3, 5, 1])"
            ]
          },
          "metadata": {},
          "execution_count": 6
        }
      ]
    },
    {
      "cell_type": "code",
      "source": [
        "import matplotlib.pyplot as plt\n",
        "\n",
        "dic = {0: 'Angry', 1: 'Disgust', 2: 'Fear', 3: 'Happy', 4: 'Sad', 5: 'Surprise', 6: 'Neutral'}\n",
        "from sklearn.model_selection import train_test_split\n",
        "\n",
        "# Split your data into features (X) and labels (y)\n",
        "XX = data.iloc[:,[1]]  # Assuming 'emotion' is the label column\n",
        "yy = data.iloc[:,[0]]\n",
        "\n",
        "# Split the data into training and testing sets (e.g., 80% training, 20% testing)\n",
        "XX_train, XX_test, yy_train, yy_test = train_test_split(XX, yy, test_size=0.3, random_state=42)\n",
        "\n",
        "# Now you have XX_train, XX_test, yy_train, and yy_test for your model training and testing.\n",
        "\n",
        "\n",
        "# Assuming you have DataFrames 'XX_train' and 'yy_train'\n",
        "# Replace 'XX_train' and 'yy_train' with your actual DataFrame names\n",
        "\n",
        "# Number of classes\n",
        "num_classes = len(dic)\n",
        "\n",
        "# Create subplots for each class\n",
        "fig, axes = plt.subplots(nrows=1, ncols=num_classes, figsize=(22, 8))\n",
        "\n",
        "# Loop through each class\n",
        "for i, ax in enumerate(axes):\n",
        "    # Filter images for the current class\n",
        "    class_images = XX_train[yy_train['emotion'] == i]['pixels'].str.split().apply(lambda x: [int(val) for val in x])\n",
        "\n",
        "    if not class_images.empty:  # Check if there are images for this class\n",
        "        # Calculate the mean image for the class\n",
        "        mean_image = np.mean(class_images.tolist(), axis=0).reshape(48, 48)\n",
        "\n",
        "        # Display the mean image\n",
        "        ax.imshow(mean_image, cmap='gray')  # Assuming grayscale images\n",
        "        ax.set_title(dic[i])\n",
        "    else:\n",
        "        ax.set_title(dic[i] + \" (No Data)\")\n",
        "\n",
        "plt.show()"
      ],
      "metadata": {
        "id": "nMAHkYxXuYa7",
        "colab": {
          "base_uri": "https://localhost:8080/",
          "height": 257
        },
        "outputId": "036391d3-78bd-4c0f-be1b-c3a33b315da4"
      },
      "execution_count": null,
      "outputs": [
        {
          "output_type": "display_data",
          "data": {
            "text/plain": [
              "<Figure size 2200x800 with 7 Axes>"
            ],
            "image/png": "[encoded data removed]"
          },
          "metadata": {}
        }
      ]
    },
    {
      "cell_type": "code",
      "source": [
        "data.emotion.value_counts()"
      ],
      "metadata": {
        "id": "ZliqVYVNGlpd",
        "colab": {
          "base_uri": "https://localhost:8080/"
        },
        "outputId": "ad146329-6393-48ac-e922-e9ca90974578"
      },
      "execution_count": null,
      "outputs": [
        {
          "output_type": "execute_result",
          "data": {
            "text/plain": [
              "3    8989\n",
              "6    6198\n",
              "4    6077\n",
              "2    5121\n",
              "0    4953\n",
              "5    4002\n",
              "1     547\n",
              "Name: emotion, dtype: int64"
            ]
          },
          "metadata": {},
          "execution_count": 8
        }
      ]
    },
    {
      "cell_type": "code",
      "source": [
        "img_array = data.pixels.apply(lambda x: np.array(x.split(' ')).reshape(48, 48).astype('float32'))\n",
        "img_array = np.stack(img_array, axis = 0)"
      ],
      "metadata": {
        "id": "aPtjDk4uovua"
      },
      "execution_count": null,
      "outputs": []
    },
    {
      "cell_type": "code",
      "source": [
        "img_array.shape"
      ],
      "metadata": {
        "id": "E3uk-GgapNlk",
        "colab": {
          "base_uri": "https://localhost:8080/"
        },
        "outputId": "16285049-eb9b-4c9e-8fd0-0de25054e6cd"
      },
      "execution_count": null,
      "outputs": [
        {
          "output_type": "execute_result",
          "data": {
            "text/plain": [
              "(35887, 48, 48)"
            ]
          },
          "metadata": {},
          "execution_count": 10
        }
      ]
    },
    {
      "cell_type": "code",
      "source": [
        "import numpy as np\n",
        "import matplotlib.pyplot as plt\n",
        "\n",
        "# Assuming img_array is already created as per your code\n",
        "\n",
        "# Stack the individual 2D images into a 3D array\n",
        "composite_image = np.stack([img_array]*3, axis=-1)\n",
        "\n",
        "# Display the composite image\n",
        "plt.imshow(composite_image[1], cmap='gray')  # Display the second image in the composite\n",
        "plt.show()"
      ],
      "metadata": {
        "id": "0aB90xyUBHj1",
        "colab": {
          "base_uri": "https://localhost:8080/",
          "height": 449
        },
        "outputId": "740ecc8a-9bd2-426f-cd27-1f430be14a6b"
      },
      "execution_count": null,
      "outputs": [
        {
          "output_type": "stream",
          "name": "stderr",
          "text": [
            "WARNING:matplotlib.image:Clipping input data to the valid range for imshow with RGB data ([0..1] for floats or [0..255] for integers).\n"
          ]
        },
        {
          "output_type": "display_data",
          "data": {
            "text/plain": [
              "<Figure size 640x480 with 1 Axes>"
            ],
            "image/png": "[encoded data removed]"
          },
          "metadata": {}
        }
      ]
    },
    {
      "cell_type": "code",
      "source": [
        "img_features = []\n",
        "\n",
        "for i in range(len(img_array)):\n",
        "    temp = cv2.cvtColor(img_array[i], cv2.COLOR_GRAY2RGB)\n",
        "    img_features.append(temp)\n",
        "\n",
        "img_features = np.array(img_features)\n",
        "print(img_features.shape)"
      ],
      "metadata": {
        "id": "D4dIigo3pPuh",
        "colab": {
          "base_uri": "https://localhost:8080/"
        },
        "outputId": "ce0eea18-567a-4b98-d41d-d363f8078d0f"
      },
      "execution_count": null,
      "outputs": [
        {
          "output_type": "stream",
          "name": "stdout",
          "text": [
            "(35887, 48, 48, 3)\n"
          ]
        }
      ]
    },
    {
      "cell_type": "code",
      "source": [
        "from sklearn.preprocessing import LabelEncoder\n",
        "from tensorflow.keras.utils import to_categorical\n",
        "\n",
        "le = LabelEncoder()\n",
        "img_labels = le.fit_transform(data.emotion)\n",
        "img_labels = to_categorical(img_labels)\n",
        "img_labels.shape\n"
      ],
      "metadata": {
        "id": "w6geDPrSqqfA",
        "colab": {
          "base_uri": "https://localhost:8080/"
        },
        "outputId": "6d153cc5-f349-43ea-e13c-cb73f055c608"
      },
      "execution_count": null,
      "outputs": [
        {
          "output_type": "execute_result",
          "data": {
            "text/plain": [
              "(35887, 7)"
            ]
          },
          "metadata": {},
          "execution_count": 11
        }
      ]
    },
    {
      "cell_type": "code",
      "source": [
        "le_name_mapping = dict(zip(le.classes_, le.transform(le.classes_)))\n",
        "print(le_name_mapping)"
      ],
      "metadata": {
        "id": "yXaeNs1kq8bg",
        "colab": {
          "base_uri": "https://localhost:8080/"
        },
        "outputId": "1a929fb1-0e97-4164-a812-9cf075ce0cb1"
      },
      "execution_count": null,
      "outputs": [
        {
          "output_type": "stream",
          "name": "stdout",
          "text": [
            "{0: 0, 1: 1, 2: 2, 3: 3, 4: 4, 5: 5, 6: 6}\n"
          ]
        }
      ]
    },
    {
      "cell_type": "code",
      "source": [
        "X_train, X_valid, y_train, y_valid = train_test_split(img_features,\n",
        "                                                      img_labels,\n",
        "                                                      shuffle = True,\n",
        "                                                      stratify = img_labels,\n",
        "                                                      test_size = 0.1,\n",
        "                                                      random_state = 42)\n",
        "X_train.shape, X_valid.shape, y_train.shape, y_valid.shape"
      ],
      "metadata": {
        "id": "Kf6C_Hg-rAbY",
        "colab": {
          "base_uri": "https://localhost:8080/"
        },
        "outputId": "b3759ff6-b518-4750-a81d-2508480bf226"
      },
      "execution_count": null,
      "outputs": [
        {
          "output_type": "execute_result",
          "data": {
            "text/plain": [
              "((32298, 48, 48, 3), (3589, 48, 48, 3), (32298, 7), (3589, 7))"
            ]
          },
          "metadata": {},
          "execution_count": 13
        }
      ]
    },
    {
      "cell_type": "code",
      "source": [
        "#class_weight = {\n",
        "#    0: 1 / (y_train['emotion'] == 0).sum(),\n",
        "#   1: 1 / (y_train['emotion'] == 1).sum(),\n",
        "#    2: 1 / (y_train['emotion'] == 2).sum(),\n",
        "#    3: 1 / (y_train['emotion'] == 3).sum(),\n",
        "#    4: 1 / (y_train['emotion'] == 4).sum(),\n",
        "#    5: 1 / (y_train['emotion'] == 5).sum(),\n",
        "#    6: 1 / (y_train['emotion'] == 6).sum()\n",
        "#}"
      ],
      "metadata": {
        "id": "Yw09UVHQIire"
      },
      "execution_count": null,
      "outputs": []
    },
    {
      "cell_type": "code",
      "source": [
        "img_width = X_train.shape[1]\n",
        "img_height = X_train.shape[2]\n",
        "img_depth = X_train.shape[3]\n",
        "num_classes = y_train.shape[1]"
      ],
      "metadata": {
        "id": "lbP16K4BrUJB"
      },
      "execution_count": null,
      "outputs": []
    },
    {
      "cell_type": "code",
      "source": [
        "num_classes"
      ],
      "metadata": {
        "id": "oGjK4siDL2Z_",
        "colab": {
          "base_uri": "https://localhost:8080/"
        },
        "outputId": "11d45b7d-8735-4005-bd36-39e53bd737dd"
      },
      "execution_count": null,
      "outputs": [
        {
          "output_type": "execute_result",
          "data": {
            "text/plain": [
              "7"
            ]
          },
          "metadata": {},
          "execution_count": 15
        }
      ]
    },
    {
      "cell_type": "code",
      "source": [
        "X_train = X_train / 255.\n",
        "X_valid = X_valid / 255."
      ],
      "metadata": {
        "id": "d5oC_-WZrc6M"
      },
      "execution_count": null,
      "outputs": []
    },
    {
      "cell_type": "markdown",
      "source": [
        "# Building the model"
      ],
      "metadata": {
        "id": "Nh9VEy2vrvKS"
      }
    },
    {
      "cell_type": "code",
      "source": [
        "vgg = tf.keras.applications.VGG19(weights = 'imagenet',\n",
        "                                  include_top = False,\n",
        "                                  input_shape = (48, 48, 3))"
      ],
      "metadata": {
        "id": "cpPo0soDryhg",
        "colab": {
          "base_uri": "https://localhost:8080/"
        },
        "outputId": "637198e1-6c35-468d-f64b-d9265b0bcda3"
      },
      "execution_count": null,
      "outputs": [
        {
          "output_type": "stream",
          "name": "stdout",
          "text": [
            "Downloading data from https://storage.googleapis.com/tensorflow/keras-applications/vgg19/vgg19_weights_tf_dim_ordering_tf_kernels_notop.h5\n",
            "80134624/80134624 [==============================] - 0s 0us/step\n"
          ]
        }
      ]
    },
    {
      "cell_type": "code",
      "source": [
        "vgg.summary()"
      ],
      "metadata": {
        "id": "wPOyVRKur99p",
        "colab": {
          "base_uri": "https://localhost:8080/"
        },
        "outputId": "129042cd-40fb-4115-e681-8d41a2ee7b1a"
      },
      "execution_count": null,
      "outputs": [
        {
          "output_type": "stream",
          "name": "stdout",
          "text": [
            "Model: \"vgg19\"\n",
            "_________________________________________________________________\n",
            " Layer (type)                Output Shape              Param #   \n",
            "=================================================================\n",
            " input_1 (InputLayer)        [(None, 48, 48, 3)]       0         \n",
            "                                                                 \n",
            " block1_conv1 (Conv2D)       (None, 48, 48, 64)        1792      \n",
            "                                                                 \n",
            " block1_conv2 (Conv2D)       (None, 48, 48, 64)        36928     \n",
            "                                                                 \n",
            " block1_pool (MaxPooling2D)  (None, 24, 24, 64)        0         \n",
            "                                                                 \n",
            " block2_conv1 (Conv2D)       (None, 24, 24, 128)       73856     \n",
            "                                                                 \n",
            " block2_conv2 (Conv2D)       (None, 24, 24, 128)       147584    \n",
            "                                                                 \n",
            " block2_pool (MaxPooling2D)  (None, 12, 12, 128)       0         \n",
            "                                                                 \n",
            " block3_conv1 (Conv2D)       (None, 12, 12, 256)       295168    \n",
            "                                                                 \n",
            " block3_conv2 (Conv2D)       (None, 12, 12, 256)       590080    \n",
            "                                                                 \n",
            " block3_conv3 (Conv2D)       (None, 12, 12, 256)       590080    \n",
            "                                                                 \n",
            " block3_conv4 (Conv2D)       (None, 12, 12, 256)       590080    \n",
            "                                                                 \n",
            " block3_pool (MaxPooling2D)  (None, 6, 6, 256)         0         \n",
            "                                                                 \n",
            " block4_conv1 (Conv2D)       (None, 6, 6, 512)         1180160   \n",
            "                                                                 \n",
            " block4_conv2 (Conv2D)       (None, 6, 6, 512)         2359808   \n",
            "                                                                 \n",
            " block4_conv3 (Conv2D)       (None, 6, 6, 512)         2359808   \n",
            "                                                                 \n",
            " block4_conv4 (Conv2D)       (None, 6, 6, 512)         2359808   \n",
            "                                                                 \n",
            " block4_pool (MaxPooling2D)  (None, 3, 3, 512)         0         \n",
            "                                                                 \n",
            " block5_conv1 (Conv2D)       (None, 3, 3, 512)         2359808   \n",
            "                                                                 \n",
            " block5_conv2 (Conv2D)       (None, 3, 3, 512)         2359808   \n",
            "                                                                 \n",
            " block5_conv3 (Conv2D)       (None, 3, 3, 512)         2359808   \n",
            "                                                                 \n",
            " block5_conv4 (Conv2D)       (None, 3, 3, 512)         2359808   \n",
            "                                                                 \n",
            " block5_pool (MaxPooling2D)  (None, 1, 1, 512)         0         \n",
            "                                                                 \n",
            "=================================================================\n",
            "Total params: 20024384 (76.39 MB)\n",
            "Trainable params: 20024384 (76.39 MB)\n",
            "Non-trainable params: 0 (0.00 Byte)\n",
            "_________________________________________________________________\n"
          ]
        }
      ]
    },
    {
      "cell_type": "code",
      "source": [
        "def build_model(bottom_model, classes):\n",
        "    model = bottom_model.layers[-2].output\n",
        "    model = GlobalAveragePooling2D()(model)\n",
        "    model = Dense(classes, activation = 'softmax', name = 'out_layer')(model)\n",
        "\n",
        "    return model"
      ],
      "metadata": {
        "id": "eOHtG0W4sBnj"
      },
      "execution_count": null,
      "outputs": []
    },
    {
      "cell_type": "code",
      "source": [
        "head = build_model(vgg, num_classes)\n",
        "\n",
        "model = Model(inputs = vgg.input, outputs = head)\n",
        "\n",
        "print(model.summary())"
      ],
      "metadata": {
        "id": "grGHT8zDsD3b",
        "colab": {
          "base_uri": "https://localhost:8080/"
        },
        "outputId": "8eac06d8-dbb2-4079-c557-3440fa75a578"
      },
      "execution_count": null,
      "outputs": [
        {
          "output_type": "stream",
          "name": "stdout",
          "text": [
            "Model: \"model\"\n",
            "_________________________________________________________________\n",
            " Layer (type)                Output Shape              Param #   \n",
            "=================================================================\n",
            " input_1 (InputLayer)        [(None, 48, 48, 3)]       0         \n",
            "                                                                 \n",
            " block1_conv1 (Conv2D)       (None, 48, 48, 64)        1792      \n",
            "                                                                 \n",
            " block1_conv2 (Conv2D)       (None, 48, 48, 64)        36928     \n",
            "                                                                 \n",
            " block1_pool (MaxPooling2D)  (None, 24, 24, 64)        0         \n",
            "                                                                 \n",
            " block2_conv1 (Conv2D)       (None, 24, 24, 128)       73856     \n",
            "                                                                 \n",
            " block2_conv2 (Conv2D)       (None, 24, 24, 128)       147584    \n",
            "                                                                 \n",
            " block2_pool (MaxPooling2D)  (None, 12, 12, 128)       0         \n",
            "                                                                 \n",
            " block3_conv1 (Conv2D)       (None, 12, 12, 256)       295168    \n",
            "                                                                 \n",
            " block3_conv2 (Conv2D)       (None, 12, 12, 256)       590080    \n",
            "                                                                 \n",
            " block3_conv3 (Conv2D)       (None, 12, 12, 256)       590080    \n",
            "                                                                 \n",
            " block3_conv4 (Conv2D)       (None, 12, 12, 256)       590080    \n",
            "                                                                 \n",
            " block3_pool (MaxPooling2D)  (None, 6, 6, 256)         0         \n",
            "                                                                 \n",
            " block4_conv1 (Conv2D)       (None, 6, 6, 512)         1180160   \n",
            "                                                                 \n",
            " block4_conv2 (Conv2D)       (None, 6, 6, 512)         2359808   \n",
            "                                                                 \n",
            " block4_conv3 (Conv2D)       (None, 6, 6, 512)         2359808   \n",
            "                                                                 \n",
            " block4_conv4 (Conv2D)       (None, 6, 6, 512)         2359808   \n",
            "                                                                 \n",
            " block4_pool (MaxPooling2D)  (None, 3, 3, 512)         0         \n",
            "                                                                 \n",
            " block5_conv1 (Conv2D)       (None, 3, 3, 512)         2359808   \n",
            "                                                                 \n",
            " block5_conv2 (Conv2D)       (None, 3, 3, 512)         2359808   \n",
            "                                                                 \n",
            " block5_conv3 (Conv2D)       (None, 3, 3, 512)         2359808   \n",
            "                                                                 \n",
            " block5_conv4 (Conv2D)       (None, 3, 3, 512)         2359808   \n",
            "                                                                 \n",
            " global_average_pooling2d (  (None, 512)               0         \n",
            " GlobalAveragePooling2D)                                         \n",
            "                                                                 \n",
            " out_layer (Dense)           (None, 7)                 3591      \n",
            "                                                                 \n",
            "=================================================================\n",
            "Total params: 20027975 (76.40 MB)\n",
            "Trainable params: 20027975 (76.40 MB)\n",
            "Non-trainable params: 0 (0.00 Byte)\n",
            "_________________________________________________________________\n",
            "None\n"
          ]
        }
      ]
    },
    {
      "cell_type": "code",
      "source": [
        "early_stopping = EarlyStopping(monitor = 'val_accuracy',\n",
        "                               min_delta = 0.00005,\n",
        "                               patience = 11,\n",
        "                               verbose = 1,\n",
        "                               restore_best_weights = True,)\n",
        "\n",
        "lr_scheduler = ReduceLROnPlateau(monitor = 'val_accuracy',\n",
        "                                 factor = 0.5,\n",
        "                                 patience = 7,\n",
        "                                 min_lr = 1e-7,\n",
        "                                 verbose = 1,)\n",
        "\n",
        "callbacks = [early_stopping,lr_scheduler,]"
      ],
      "metadata": {
        "id": "XIqsnDwxsJ-0"
      },
      "execution_count": null,
      "outputs": []
    },
    {
      "cell_type": "code",
      "source": [
        "train_datagen = ImageDataGenerator(rotation_range = 15,\n",
        "                                   width_shift_range = 0.15,\n",
        "                                   height_shift_range = 0.15,\n",
        "                                   shear_range = 0.15,\n",
        "                                   zoom_range = 0.15,\n",
        "                                   horizontal_flip = True,)\n",
        "train_datagen.fit(X_train)"
      ],
      "metadata": {
        "id": "vBO_FlZYsTX1"
      },
      "execution_count": null,
      "outputs": []
    },
    {
      "cell_type": "code",
      "source": [
        "# batch size of 32 performs the best.\n",
        "batch_size = 32\n",
        "epochs = 5\n",
        "optims = [optimizers.Adam(learning_rate = 0.0001, beta_1 = 0.9, beta_2 = 0.999),]\n",
        "\n",
        "model.compile(loss = 'categorical_crossentropy',\n",
        "              optimizer = optims[0],\n",
        "              metrics = ['accuracy'])"
      ],
      "metadata": {
        "id": "N-8RjFoV3XLd"
      },
      "execution_count": null,
      "outputs": []
    },
    {
      "cell_type": "code",
      "source": [
        "history = model.fit(train_datagen.flow(X_train,\n",
        "                                       y_train,\n",
        "                                       batch_size = batch_size),\n",
        "                                       validation_data = (X_valid, y_valid),\n",
        "                                       steps_per_epoch = len(X_train) / batch_size,\n",
        "                                       epochs = epochs,\n",
        "                                       callbacks = callbacks,\n",
        "                                       use_multiprocessing = True)"
      ],
      "metadata": {
        "id": "0Tk4saVcsmrY",
        "colab": {
          "base_uri": "https://localhost:8080/"
        },
        "outputId": "37e8b9c1-8b57-4771-b97d-c1f9aa6e5175"
      },
      "execution_count": null,
      "outputs": [
        {
          "output_type": "stream",
          "name": "stdout",
          "text": [
            "Epoch 1/5\n",
            "1009/1009 [==============================] - 77s 61ms/step - loss: 1.4686 - accuracy: 0.4266 - val_loss: 1.2106 - val_accuracy: 0.5280 - lr: 1.0000e-04\n",
            "Epoch 2/5\n",
            "1009/1009 [==============================] - 61s 60ms/step - loss: 1.2360 - accuracy: 0.5294 - val_loss: 1.1105 - val_accuracy: 0.5821 - lr: 1.0000e-04\n",
            "Epoch 3/5\n",
            "1009/1009 [==============================] - 63s 62ms/step - loss: 1.1419 - accuracy: 0.5700 - val_loss: 1.0909 - val_accuracy: 0.5935 - lr: 1.0000e-04\n",
            "Epoch 4/5\n",
            "1009/1009 [==============================] - 61s 61ms/step - loss: 1.0890 - accuracy: 0.5860 - val_loss: 1.0324 - val_accuracy: 0.6096 - lr: 1.0000e-04\n",
            "Epoch 5/5\n",
            "1009/1009 [==============================] - 62s 61ms/step - loss: 1.0484 - accuracy: 0.6074 - val_loss: 1.0752 - val_accuracy: 0.5946 - lr: 1.0000e-04\n"
          ]
        }
      ]
    },
    {
      "cell_type": "code",
      "source": [
        "sns.set()\n",
        "fig = pyplot.figure(0, (12, 4))\n",
        "\n",
        "ax = pyplot.subplot(1, 2, 1)\n",
        "sns.lineplot(x=history.epoch, y=history.history['accuracy'], label='train')\n",
        "sns.lineplot(x=history.epoch, y=history.history['val_accuracy'], label='valid')\n",
        "pyplot.title('Accuracy')\n",
        "pyplot.tight_layout()\n",
        "\n",
        "ax = pyplot.subplot(1, 2, 2)\n",
        "sns.lineplot(x=history.epoch, y=history.history['loss'], label='train')\n",
        "sns.lineplot(x=history.epoch, y=history.history['val_loss'], label='valid')\n",
        "pyplot.title('Loss')\n",
        "pyplot.tight_layout()\n",
        "\n",
        "pyplot.savefig('epoch_history_dcnn.png')\n",
        "pyplot.show()"
      ],
      "metadata": {
        "id": "ld428-vTf5pR",
        "colab": {
          "base_uri": "https://localhost:8080/",
          "height": 401
        },
        "outputId": "2cb1d93e-e391-4c6b-98e3-e9e9f7e20848"
      },
      "execution_count": null,
      "outputs": [
        {
          "output_type": "display_data",
          "data": {
            "text/plain": [
              "<Figure size 1200x400 with 2 Axes>"
            ],
            "image/png": "[encoded data removed]"
          },
          "metadata": {}
        }
      ]
    },
    {
      "cell_type": "code",
      "source": [
        "pip install scikit-plot"
      ],
      "metadata": {
        "colab": {
          "base_uri": "https://localhost:8080/"
        },
        "id": "chyKT3cU7AQn",
        "outputId": "ee2399e7-c068-4e68-9d0d-926689bd88da"
      },
      "execution_count": null,
      "outputs": [
        {
          "output_type": "stream",
          "name": "stdout",
          "text": [
            "Collecting scikit-plot\n",
            "  Downloading scikit_plot-0.3.7-py3-none-any.whl (33 kB)\n",
            "Requirement already satisfied: matplotlib>=1.4.0 in /usr/local/lib/python3.10/dist-packages (from scikit-plot) (3.7.1)\n",
            "Requirement already satisfied: scikit-learn>=0.18 in /usr/local/lib/python3.10/dist-packages (from scikit-plot) (1.2.2)\n",
            "Requirement already satisfied: scipy>=0.9 in /usr/local/lib/python3.10/dist-packages (from scikit-plot) (1.11.3)\n",
            "Requirement already satisfied: joblib>=0.10 in /usr/local/lib/python3.10/dist-packages (from scikit-plot) (1.3.2)\n",
            "Requirement already satisfied: contourpy>=1.0.1 in /usr/local/lib/python3.10/dist-packages (from matplotlib>=1.4.0->scikit-plot) (1.1.1)\n",
            "Requirement already satisfied: cycler>=0.10 in /usr/local/lib/python3.10/dist-packages (from matplotlib>=1.4.0->scikit-plot) (0.12.1)\n",
            "Requirement already satisfied: fonttools>=4.22.0 in /usr/local/lib/python3.10/dist-packages (from matplotlib>=1.4.0->scikit-plot) (4.43.1)\n",
            "Requirement already satisfied: kiwisolver>=1.0.1 in /usr/local/lib/python3.10/dist-packages (from matplotlib>=1.4.0->scikit-plot) (1.4.5)\n",
            "Requirement already satisfied: numpy>=1.20 in /usr/local/lib/python3.10/dist-packages (from matplotlib>=1.4.0->scikit-plot) (1.23.5)\n",
            "Requirement already satisfied: packaging>=20.0 in /usr/local/lib/python3.10/dist-packages (from matplotlib>=1.4.0->scikit-plot) (23.2)\n",
            "Requirement already satisfied: pillow>=6.2.0 in /usr/local/lib/python3.10/dist-packages (from matplotlib>=1.4.0->scikit-plot) (9.4.0)\n",
            "Requirement already satisfied: pyparsing>=2.3.1 in /usr/local/lib/python3.10/dist-packages (from matplotlib>=1.4.0->scikit-plot) (3.1.1)\n",
            "Requirement already satisfied: python-dateutil>=2.7 in /usr/local/lib/python3.10/dist-packages (from matplotlib>=1.4.0->scikit-plot) (2.8.2)\n",
            "Requirement already satisfied: threadpoolctl>=2.0.0 in /usr/local/lib/python3.10/dist-packages (from scikit-learn>=0.18->scikit-plot) (3.2.0)\n",
            "Requirement already satisfied: six>=1.5 in /usr/local/lib/python3.10/dist-packages (from python-dateutil>=2.7->matplotlib>=1.4.0->scikit-plot) (1.16.0)\n",
            "Installing collected packages: scikit-plot\n",
            "Successfully installed scikit-plot-0.3.7\n"
          ]
        }
      ]
    },
    {
      "cell_type": "code",
      "source": [
        "import scikitplot as skplt"
      ],
      "metadata": {
        "id": "i4Uv_uS9YOAD"
      },
      "execution_count": null,
      "outputs": []
    },
    {
      "cell_type": "code",
      "source": [
        "yhat_valid = np.argmax(model.predict(X_valid), axis=1)\n",
        "scikitplot.metrics.plot_confusion_matrix(np.argmax(y_valid, axis=1), yhat_valid, figsize=(7,7))\n",
        "pyplot.savefig(\"confusion_matrix_dcnn.png\")\n",
        "\n",
        "print(f'total wrong validation predictions: {np.sum(np.argmax(y_valid, axis=1) != yhat_valid)}\\n\\n')\n",
        "print(classification_report(np.argmax(y_valid, axis=1), yhat_valid))"
      ],
      "metadata": {
        "id": "rUN4x0g4gG2P",
        "colab": {
          "base_uri": "https://localhost:8080/",
          "height": 264
        },
        "outputId": "b33eaee5-4161-4bb8-f8f0-815d4bcb25e2"
      },
      "execution_count": null,
      "outputs": [
        {
          "output_type": "stream",
          "name": "stdout",
          "text": [
            "113/113 [==============================] - 2s 14ms/step\n"
          ]
        },
        {
          "output_type": "error",
          "ename": "NameError",
          "evalue": "ignored",
          "traceback": [
            "\u001b[0;31m---------------------------------------------------------------------------\u001b[0m",
            "\u001b[0;31mNameError\u001b[0m                                 Traceback (most recent call last)",
            "\u001b[0;32m<ipython-input-26-223e8119bdfc>\u001b[0m in \u001b[0;36m<cell line: 2>\u001b[0;34m()\u001b[0m\n\u001b[1;32m      1\u001b[0m \u001b[0myhat_valid\u001b[0m \u001b[0;34m=\u001b[0m \u001b[0mnp\u001b[0m\u001b[0;34m.\u001b[0m\u001b[0margmax\u001b[0m\u001b[0;34m(\u001b[0m\u001b[0mmodel\u001b[0m\u001b[0;34m.\u001b[0m\u001b[0mpredict\u001b[0m\u001b[0;34m(\u001b[0m\u001b[0mX_valid\u001b[0m\u001b[0;34m)\u001b[0m\u001b[0;34m,\u001b[0m \u001b[0maxis\u001b[0m\u001b[0;34m=\u001b[0m\u001b[0;36m1\u001b[0m\u001b[0;34m)\u001b[0m\u001b[0;34m\u001b[0m\u001b[0;34m\u001b[0m\u001b[0m\n\u001b[0;32m----> 2\u001b[0;31m \u001b[0mscikitplot\u001b[0m\u001b[0;34m.\u001b[0m\u001b[0mmetrics\u001b[0m\u001b[0;34m.\u001b[0m\u001b[0mplot_confusion_matrix\u001b[0m\u001b[0;34m(\u001b[0m\u001b[0mnp\u001b[0m\u001b[0;34m.\u001b[0m\u001b[0margmax\u001b[0m\u001b[0;34m(\u001b[0m\u001b[0my_valid\u001b[0m\u001b[0;34m,\u001b[0m \u001b[0maxis\u001b[0m\u001b[0;34m=\u001b[0m\u001b[0;36m1\u001b[0m\u001b[0;34m)\u001b[0m\u001b[0;34m,\u001b[0m \u001b[0myhat_valid\u001b[0m\u001b[0;34m,\u001b[0m \u001b[0mfigsize\u001b[0m\u001b[0;34m=\u001b[0m\u001b[0;34m(\u001b[0m\u001b[0;36m7\u001b[0m\u001b[0;34m,\u001b[0m\u001b[0;36m7\u001b[0m\u001b[0;34m)\u001b[0m\u001b[0;34m)\u001b[0m\u001b[0;34m\u001b[0m\u001b[0;34m\u001b[0m\u001b[0m\n\u001b[0m\u001b[1;32m      3\u001b[0m \u001b[0mpyplot\u001b[0m\u001b[0;34m.\u001b[0m\u001b[0msavefig\u001b[0m\u001b[0;34m(\u001b[0m\u001b[0;34m\"confusion_matrix_dcnn.png\"\u001b[0m\u001b[0;34m)\u001b[0m\u001b[0;34m\u001b[0m\u001b[0;34m\u001b[0m\u001b[0m\n\u001b[1;32m      4\u001b[0m \u001b[0;34m\u001b[0m\u001b[0m\n\u001b[1;32m      5\u001b[0m \u001b[0mprint\u001b[0m\u001b[0;34m(\u001b[0m\u001b[0;34mf'total wrong validation predictions: {np.sum(np.argmax(y_valid, axis=1) != yhat_valid)}\\n\\n'\u001b[0m\u001b[0;34m)\u001b[0m\u001b[0;34m\u001b[0m\u001b[0;34m\u001b[0m\u001b[0m\n",
            "\u001b[0;31mNameError\u001b[0m: name 'scikitplot' is not defined"
          ]
        }
      ]
    },
    {
      "cell_type": "code",
      "source": [
        "data = [\n",
        "    \"Epoch 1/25 1009/1009 [==============================] - 65s 55ms/step - loss: 1.4653 - accuracy: 0.4265 - val_loss: 1.2158 - val_accuracy: 0.5341 - lr: 1.0000e-04\",\n",
        "\"Epoch 2/25 1009/1009 [==============================] - 65s 65ms/step - loss: 1.2350 - accuracy: 0.5302 - val_loss: 1.1193 - val_accuracy: 0.5798 - lr: 1.0000e-04\",\n",
        "\"Epoch 3/25 1009/1009 [==============================] - 56s 55ms/step - loss: 1.1501 - accuracy: 0.5648 - val_loss: 1.0835 - val_accuracy: 0.5957 - lr: 1.0000e-04\",\n",
        "\"Epoch 4/25 1009/1009 [==============================] - 56s 55ms/step - loss: 1.0922 - accuracy: 0.5869 - val_loss: 1.0299 - val_accuracy: 0.6216 - lr: 1.0000e-04\",\n",
        "\"Epoch 5/25 1009/1009 [==============================] - 56s 56ms/step - loss: 1.0534 - accuracy: 0.6035 - val_loss: 1.0138 - val_accuracy: 0.6202 - lr: 1.0000e-04\",\n",
        "\"Epoch 6/25 1009/1009 [==============================] - 56s 56ms/step - loss: 1.0129 - accuracy: 0.6221 - val_loss: 0.9791 - val_accuracy: 0.6328 - lr: 1.0000e-04\",\n",
        "\"Epoch 7/25 1009/1009 [==============================] - 56s 56ms/step - loss: 0.9820 - accuracy: 0.6306 - val_loss: 0.9859 - val_accuracy: 0.6330 - lr: 1.0000e-04\",\n",
        "\"Epoch 8/25 1009/1009 [==============================] - 56s 56ms/step - loss: 0.9519 - accuracy: 0.6463 - val_loss: 0.9614 - val_accuracy: 0.6456 - lr: 1.0000e-04\",\n",
        "\"Epoch 9/25 1009/1009 [==============================] - 56s 55ms/step - loss: 0.9286 - accuracy: 0.6516 - val_loss: 0.9285 - val_accuracy: 0.6478 - lr: 1.0000e-04\",\n",
        "\"Epoch 10/25 1009/1009 [==============================] - 57s 56ms/step - loss: 0.9037 - accuracy: 0.6631 - val_loss: 0.9402 - val_accuracy: 0.6537 - lr: 1.0000e-04\",\n",
        "\"Epoch 11/25 1009/1009 [==============================] - 56s 56ms/step - loss: 0.8825 - accuracy: 0.6712 - val_loss: 0.9200 - val_accuracy: 0.6682 - lr: 1.0000e-04\",\n",
        "\"Epoch 12/25 1009/1009 [==============================] - 56s 55ms/step - loss: 0.8659 - accuracy: 0.6805 - val_loss: 0.9275 - val_accuracy: 0.6584 - lr: 1.0000e-04\",\n",
        "\"Epoch 13/25 1009/1009 [==============================] - 56s 56ms/step - loss: 0.8433 - accuracy: 0.6848 - val_loss: 0.9231 - val_accuracy: 0.6670 - lr: 1.0000e-04\",\n",
        "\"Epoch 14/25 1009/1009 [==============================] - 57s 56ms/step - loss: 0.8213 - accuracy: 0.6976 - val_loss: 0.9310 - val_accuracy: 0.6617 - lr: 1.0000e-04\",\n",
        "\"Epoch 15/25 1009/1009 [==============================] - 56s 55ms/step - loss: 0.8100 - accuracy: 0.7012 - val_loss: 0.9243 - val_accuracy: 0.6562 - lr: 1.0000e-04\",\n",
        "\"Epoch 16/25 1009/1009 [==============================] - 56s 55ms/step - loss: 0.7859 - accuracy: 0.7098 - val_loss: 0.8922 - val_accuracy: 0.6838 - lr: 1.0000e-04\",\n",
        "\"Epoch 17/25 1009/1009 [==============================] - 57s 56ms/step - loss: 0.7632 - accuracy: 0.7189 - val_loss: 0.9205 - val_accuracy: 0.6673 - lr: 1.0000e-04\",\n",
        "\"Epoch 18/25 1009/1009 [==============================] - 57s 56ms/step - loss: 0.7454 - accuracy: 0.7258 - val_loss: 0.9394 - val_accuracy: 0.6762 - lr: 1.0000e-04\",\n",
        "\"Epoch 19/25 1009/1009 [==============================] - 56s 56ms/step - loss: 0.7281 - accuracy: 0.7315 - val_loss: 0.9081 - val_accuracy: 0.6746 - lr: 1.0000e-04\",\n",
        "\"Epoch 20/25 1009/1009 [==============================] - 56s 56ms/step - loss: 0.7059 - accuracy: 0.7419 - val_loss: 0.9463 - val_accuracy: 0.6679 - lr: 1.0000e-04\",\n",
        "\"Epoch 21/25 1009/1009 [==============================] - 57s 56ms/step - loss: 0.6963 - accuracy: 0.7441 - val_loss: 0.8965 - val_accuracy: 0.6821 - lr: 1.0000e-04\",\n",
        "\"Epoch 22/25 1009/1009 [==============================] - 56s 56ms/step - loss: 0.6756 - accuracy: 0.7525 - val_loss: 0.9041 - val_accuracy: 0.6871 - lr: 1.0000e-04\",\n",
        "\"Epoch 23/25 1009/1009 [==============================] - 56s 56ms/step - loss: 0.6620 - accuracy: 0.7608 - val_loss: 0.9075 - val_accuracy: 0.6771 - lr: 1.0000e-04\",\n",
        "\"Epoch 24/25 1009/1009 [==============================] - 57s 56ms/step - loss: 0.6476 - accuracy: 0.7635 - val_loss: 0.9661 - val_accuracy: 0.6707 - lr: 1.0000e-04\",\n",
        "\"Epoch 25/25 1009/1009 [==============================] - 56s 55ms/step - loss: 0.6269 - accuracy: 0.7715 - val_loss: 0.9455 - val_accuracy: 0.6821 - lr: 1.0000e-04\"\n",
        "]\n",
        "\n",
        "# Initialize lists to store the metrics for each epoch\n",
        "epochs = []\n",
        "losses = []\n",
        "accuracies = []\n",
        "val_losses = []\n",
        "val_accuracies = []\n",
        "\n",
        "# Extract losses and accuracies for each epoch\n",
        "for entry in data:\n",
        "    parts = entry.split()\n",
        "    epoch = int(parts[1].split('/')[0])\n",
        "    loss = float(parts[11])\n",
        "    accuracy = float(parts[14])\n",
        "    val_loss = float(parts[17])\n",
        "    val_accuracy = float(parts[20])\n",
        "\n",
        "    epochs.append(epoch)\n",
        "    losses.append(loss)\n",
        "    accuracies.append(accuracy)\n",
        "    val_losses.append(val_loss)\n",
        "    val_accuracies.append(val_accuracy)\n",
        "\n",
        "# Create a table\n",
        "import pandas as pd\n",
        "table = pd.DataFrame({\n",
        "    \"Epoch\": epochs,\n",
        "    \"Loss\": losses,\n",
        "    \"Accuracy\": accuracies,\n",
        "    \"Val_Loss\": val_losses,\n",
        "    \"Val_Accuracy\": val_accuracies\n",
        "})\n",
        "\n",
        "# Display the table\n",
        "print(table)"
      ],
      "metadata": {
        "colab": {
          "base_uri": "https://localhost:8080/",
          "height": 246
        },
        "id": "0DYtPwUX9Qnm",
        "outputId": "8789c828-37c3-4619-dd2b-a4894a7f8949"
      },
      "execution_count": null,
      "outputs": [
        {
          "output_type": "error",
          "ename": "ValueError",
          "evalue": "ignored",
          "traceback": [
            "\u001b[0;31m---------------------------------------------------------------------------\u001b[0m",
            "\u001b[0;31mValueError\u001b[0m                                Traceback (most recent call last)",
            "\u001b[0;32m<ipython-input-36-2f689962749d>\u001b[0m in \u001b[0;36m<cell line: 37>\u001b[0;34m()\u001b[0m\n\u001b[1;32m     38\u001b[0m     \u001b[0mparts\u001b[0m \u001b[0;34m=\u001b[0m \u001b[0mentry\u001b[0m\u001b[0;34m.\u001b[0m\u001b[0msplit\u001b[0m\u001b[0;34m(\u001b[0m\u001b[0;34m)\u001b[0m\u001b[0;34m\u001b[0m\u001b[0;34m\u001b[0m\u001b[0m\n\u001b[1;32m     39\u001b[0m     \u001b[0mepoch\u001b[0m \u001b[0;34m=\u001b[0m \u001b[0mint\u001b[0m\u001b[0;34m(\u001b[0m\u001b[0mparts\u001b[0m\u001b[0;34m[\u001b[0m\u001b[0;36m1\u001b[0m\u001b[0;34m]\u001b[0m\u001b[0;34m.\u001b[0m\u001b[0msplit\u001b[0m\u001b[0;34m(\u001b[0m\u001b[0;34m'/'\u001b[0m\u001b[0;34m)\u001b[0m\u001b[0;34m[\u001b[0m\u001b[0;36m0\u001b[0m\u001b[0;34m]\u001b[0m\u001b[0;34m)\u001b[0m\u001b[0;34m\u001b[0m\u001b[0;34m\u001b[0m\u001b[0m\n\u001b[0;32m---> 40\u001b[0;31m     \u001b[0mloss\u001b[0m \u001b[0;34m=\u001b[0m \u001b[0mfloat\u001b[0m\u001b[0;34m(\u001b[0m\u001b[0mparts\u001b[0m\u001b[0;34m[\u001b[0m\u001b[0;36m11\u001b[0m\u001b[0;34m]\u001b[0m\u001b[0;34m)\u001b[0m\u001b[0;34m\u001b[0m\u001b[0;34m\u001b[0m\u001b[0m\n\u001b[0m\u001b[1;32m     41\u001b[0m     \u001b[0maccuracy\u001b[0m \u001b[0;34m=\u001b[0m \u001b[0mfloat\u001b[0m\u001b[0;34m(\u001b[0m\u001b[0mparts\u001b[0m\u001b[0;34m[\u001b[0m\u001b[0;36m14\u001b[0m\u001b[0;34m]\u001b[0m\u001b[0;34m)\u001b[0m\u001b[0;34m\u001b[0m\u001b[0;34m\u001b[0m\u001b[0m\n\u001b[1;32m     42\u001b[0m     \u001b[0mval_loss\u001b[0m \u001b[0;34m=\u001b[0m \u001b[0mfloat\u001b[0m\u001b[0;34m(\u001b[0m\u001b[0mparts\u001b[0m\u001b[0;34m[\u001b[0m\u001b[0;36m17\u001b[0m\u001b[0;34m]\u001b[0m\u001b[0;34m)\u001b[0m\u001b[0;34m\u001b[0m\u001b[0;34m\u001b[0m\u001b[0m\n",
            "\u001b[0;31mValueError\u001b[0m: could not convert string to float: 'accuracy:'"
          ]
        }
      ]
    },
    {
      "cell_type": "code",
      "source": [
        "data = [\n",
        "\"Epoch 1/20 4589/4589 [==============================] - 40s 8ms/step - loss: 0.2849 - accuracy: 0.8831 - val_loss: 0.2209 - val_accuracy: 0.9094\",\n",
        "\"Epoch 2/20 4589/4589 [==============================] - 35s 8ms/step - loss: 0.2098 - accuracy: 0.9127 - val_loss: 0.1990 - val_accuracy: 0.9186\",\n",
        "\"Epoch 3/20 4589/4589 [==============================] - 36s 8ms/step - loss: 0.1931 - accuracy: 0.9195 - val_loss: 0.2000 - val_accuracy: 0.9177\",\n",
        "\"Epoch 4/20 4589/4589 [==============================] - 35s 8ms/step - loss: 0.1837 - accuracy: 0.9234 - val_loss: 0.1993 - val_accuracy: 0.9168\",\n",
        "\"Epoch 5/20 4589/4589 [==============================] - 35s 8ms/step - loss: 0.1766 - accuracy: 0.9264 - val_loss: 0.2013 - val_accuracy: 0.9163\",\n",
        "\"Epoch 6/20 4589/4589 [==============================] - 35s 8ms/step - loss: 0.1708 - accuracy: 0.9287 - val_loss: 0.2044 - val_accuracy: 0.9174\",\n",
        "\"Epoch 7/20 4589/4589 [==============================] - 36s 8ms/step - loss: 0.1656 - accuracy: 0.9309 - val_loss: 0.2164 - val_accuracy: 0.9166\",\n",
        "\"Epoch 8/20 4589/4589 [==============================] - 35s 8ms/step - loss: 0.1606 - accuracy: 0.9332 - val_loss: 0.2122 - val_accuracy: 0.9155\",\n",
        "\"Epoch 9/20 4589/4589 [==============================] - 35s 8ms/step - loss: 0.1560 - accuracy: 0.9354 - val_loss: 0.2203 - val_accuracy: 0.9170\",\n",
        "\"Epoch 10/20 4589/4589 [==============================] - 36s 8ms/step - loss: 0.1515 - accuracy: 0.9373 - val_loss: 0.2222 - val_accuracy: 0.9161\",\n",
        "\"Epoch 11/20 4589/4589 [==============================] - 35s 8ms/step - loss: 0.1468 - accuracy: 0.9396 - val_loss: 0.2225 - val_accuracy: 0.9143\",\n",
        "\"Epoch 12/20 4589/4589 [==============================] - 37s 8ms/step - loss: 0.1427 - accuracy: 0.9413 - val_loss: 0.2330 - val_accuracy: 0.9120\",\n",
        "\"Epoch 13/20 4589/4589 [==============================] - 36s 8ms/step - loss: 0.1386 - accuracy: 0.9432 - val_loss: 0.2369 - val_accuracy: 0.9131\",\n",
        "\"Epoch 14/20 4589/4589 [==============================] - 34s 7ms/step - loss: 0.1344 - accuracy: 0.9455 - val_loss: 0.2418 - val_accuracy: 0.9102\",\n",
        "\"Epoch 15/20 4589/4589 [==============================] - 36s 8ms/step - loss: 0.1307 - accuracy: 0.9470 - val_loss: 0.2487 - val_accuracy: 0.9073\",\n",
        "\"Epoch 16/20 4589/4589 [==============================] - 37s 8ms/step - loss: 0.1272 - accuracy: 0.9490 - val_loss: 0.2574 - val_accuracy: 0.9058\",\n",
        "\"Epoch 17/20 4589/4589 [==============================] - 36s 8ms/step - loss: 0.1237 - accuracy: 0.9502 - val_loss: 0.2663 - val_accuracy: 0.9009\",\n",
        "\"Epoch 18/20 4589/4589 [==============================] - 36s 8ms/step - loss: 0.1202 - accuracy: 0.9519 - val_loss: 0.2734 - val_accuracy: 0.9028\",\n",
        "\"Epoch 19/20 4589/4589 [==============================] - 36s 8ms/step - loss: 0.1173 - accuracy: 0.9536 - val_loss: 0.2810 - val_accuracy: 0.8978\",\n",
        "\"Epoch 20/20 4589/4589 [==============================] - 36s 8ms/step - loss: 0.1144 - accuracy: 0.9550 - val_loss: 0.2959 - val_accuracy: 0.9058\"]\n",
        "\n",
        "# Initialize lists to store the metrics for each epoch\n",
        "epochs = []\n",
        "losses = []\n",
        "accuracies = []\n",
        "val_losses = []\n",
        "val_accuracies = []\n",
        "\n",
        "# Extract losses and accuracies for each epoch\n",
        "for entry in data:\n",
        "    parts = entry.split()\n",
        "    epoch = int(parts[1].split('/')[0])\n",
        "\n",
        "    loss = accuracy = val_loss = val_accuracy = None\n",
        "\n",
        "    for i in range(len(parts)):\n",
        "        if parts[i] == \"loss:\":\n",
        "            loss = float(parts[i + 1])\n",
        "        elif parts[i] == \"accuracy:\":\n",
        "            accuracy = float(parts[i + 1])\n",
        "        elif parts[i] == \"val_loss:\":\n",
        "            val_loss = float(parts[i + 1])\n",
        "        elif parts[i] == \"val_accuracy:\":\n",
        "            val_accuracy = float(parts[i + 1])\n",
        "\n",
        "    if None not in [loss, accuracy, val_loss, val_accuracy]:\n",
        "        epochs.append(epoch)\n",
        "        losses.append(loss)\n",
        "        accuracies.append(accuracy)\n",
        "        val_losses.append(val_loss)\n",
        "        val_accuracies.append(val_accuracy)\n",
        "\n",
        "# Create a table\n",
        "import pandas as pd\n",
        "table = pd.DataFrame({\n",
        "    \"Epoch\": epochs,\n",
        "    \"Loss\": losses,\n",
        "    \"Accuracy\": accuracies,\n",
        "    \"Val_Loss\": val_losses,\n",
        "    \"Val_Accuracy\": val_accuracies\n",
        "})\n",
        "\n",
        "# Display the table\n",
        "print(table)"
      ],
      "metadata": {
        "colab": {
          "base_uri": "https://localhost:8080/"
        },
        "id": "P15Oa9Gc_HqK",
        "outputId": "bd7da6c2-aa8e-4332-f1d0-99994630b532"
      },
      "execution_count": null,
      "outputs": [
        {
          "output_type": "stream",
          "name": "stdout",
          "text": [
            "    Epoch    Loss  Accuracy  Val_Loss  Val_Accuracy\n",
            "0       1  0.2849    0.8831    0.2209        0.9094\n",
            "1       2  0.2098    0.9127    0.1990        0.9186\n",
            "2       3  0.1931    0.9195    0.2000        0.9177\n",
            "3       4  0.1837    0.9234    0.1993        0.9168\n",
            "4       5  0.1766    0.9264    0.2013        0.9163\n",
            "5       6  0.1708    0.9287    0.2044        0.9174\n",
            "6       7  0.1656    0.9309    0.2164        0.9166\n",
            "7       8  0.1606    0.9332    0.2122        0.9155\n",
            "8       9  0.1560    0.9354    0.2203        0.9170\n",
            "9      10  0.1515    0.9373    0.2222        0.9161\n",
            "10     11  0.1468    0.9396    0.2225        0.9143\n",
            "11     12  0.1427    0.9413    0.2330        0.9120\n",
            "12     13  0.1386    0.9432    0.2369        0.9131\n",
            "13     14  0.1344    0.9455    0.2418        0.9102\n",
            "14     15  0.1307    0.9470    0.2487        0.9073\n",
            "15     16  0.1272    0.9490    0.2574        0.9058\n",
            "16     17  0.1237    0.9502    0.2663        0.9009\n",
            "17     18  0.1202    0.9519    0.2734        0.9028\n",
            "18     19  0.1173    0.9536    0.2810        0.8978\n",
            "19     20  0.1144    0.9550    0.2959        0.9058\n"
          ]
        }
      ]
    },
    {
      "cell_type": "code",
      "source": [
        "table"
      ],
      "metadata": {
        "colab": {
          "base_uri": "https://localhost:8080/",
          "height": 833
        },
        "id": "MT3Ua6sk_dj6",
        "outputId": "cbdfec0e-f8e9-4907-abd1-d8c647730010"
      },
      "execution_count": null,
      "outputs": [
        {
          "output_type": "execute_result",
          "data": {
            "text/plain": [
              "    Epoch    Loss  Accuracy  Val_Loss  Val_Accuracy\n",
              "0       1  1.4653    0.4265    1.2158        0.5341\n",
              "1       2  1.2350    0.5302    1.1193        0.5798\n",
              "2       3  1.1501    0.5648    1.0835        0.5957\n",
              "3       4  1.0922    0.5869    1.0299        0.6216\n",
              "4       5  1.0534    0.6035    1.0138        0.6202\n",
              "5       6  1.0129    0.6221    0.9791        0.6328\n",
              "6       7  0.9820    0.6306    0.9859        0.6330\n",
              "7       8  0.9519    0.6463    0.9614        0.6456\n",
              "8       9  0.9286    0.6516    0.9285        0.6478\n",
              "9      10  0.9037    0.6631    0.9402        0.6537\n",
              "10     11  0.8825    0.6712    0.9200        0.6682\n",
              "11     12  0.8659    0.6805    0.9275        0.6584\n",
              "12     13  0.8433    0.6848    0.9231        0.6670\n",
              "13     14  0.8213    0.6976    0.9310        0.6617\n",
              "14     15  0.8100    0.7012    0.9243        0.6562\n",
              "15     16  0.7859    0.7098    0.8922        0.6838\n",
              "16     17  0.7632    0.7189    0.9205        0.6673\n",
              "17     18  0.7454    0.7258    0.9394        0.6762\n",
              "18     19  0.7281    0.7315    0.9081        0.6746\n",
              "19     20  0.7059    0.7419    0.9463        0.6679\n",
              "20     21  0.6963    0.7441    0.8965        0.6821\n",
              "21     22  0.6756    0.7525    0.9041        0.6871\n",
              "22     23  0.6620    0.7608    0.9075        0.6771\n",
              "23     24  0.6476    0.7635    0.9661        0.6707\n",
              "24     25  0.6269    0.7715    0.9455        0.6821"
            ],
            "text/html": [
              "\n",
              "  <div id=\"df-bdaa7467-0b4e-4962-b4a8-3e400b2d2e3e\" class=\"colab-df-container\">\n",
              "    <div>\n",
              "<style scoped>\n",
              "    .dataframe tbody tr th:only-of-type {\n",
              "        vertical-align: middle;\n",
              "    }\n",
              "\n",
              "    .dataframe tbody tr th {\n",
              "        vertical-align: top;\n",
              "    }\n",
              "\n",
              "    .dataframe thead th {\n",
              "        text-align: right;\n",
              "    }\n",
              "</style>\n",
              "<table border=\"1\" class=\"dataframe\">\n",
              "  <thead>\n",
              "    <tr style=\"text-align: right;\">\n",
              "      <th></th>\n",
              "      <th>Epoch</th>\n",
              "      <th>Loss</th>\n",
              "      <th>Accuracy</th>\n",
              "      <th>Val_Loss</th>\n",
              "      <th>Val_Accuracy</th>\n",
              "    </tr>\n",
              "  </thead>\n",
              "  <tbody>\n",
              "    <tr>\n",
              "      <th>0</th>\n",
              "      <td>1</td>\n",
              "      <td>1.4653</td>\n",
              "      <td>0.4265</td>\n",
              "      <td>1.2158</td>\n",
              "      <td>0.5341</td>\n",
              "    </tr>\n",
              "    <tr>\n",
              "      <th>1</th>\n",
              "      <td>2</td>\n",
              "      <td>1.2350</td>\n",
              "      <td>0.5302</td>\n",
              "      <td>1.1193</td>\n",
              "      <td>0.5798</td>\n",
              "    </tr>\n",
              "    <tr>\n",
              "      <th>2</th>\n",
              "      <td>3</td>\n",
              "      <td>1.1501</td>\n",
              "      <td>0.5648</td>\n",
              "      <td>1.0835</td>\n",
              "      <td>0.5957</td>\n",
              "    </tr>\n",
              "    <tr>\n",
              "      <th>3</th>\n",
              "      <td>4</td>\n",
              "      <td>1.0922</td>\n",
              "      <td>0.5869</td>\n",
              "      <td>1.0299</td>\n",
              "      <td>0.6216</td>\n",
              "    </tr>\n",
              "    <tr>\n",
              "      <th>4</th>\n",
              "      <td>5</td>\n",
              "      <td>1.0534</td>\n",
              "      <td>0.6035</td>\n",
              "      <td>1.0138</td>\n",
              "      <td>0.6202</td>\n",
              "    </tr>\n",
              "    <tr>\n",
              "      <th>5</th>\n",
              "      <td>6</td>\n",
              "      <td>1.0129</td>\n",
              "      <td>0.6221</td>\n",
              "      <td>0.9791</td>\n",
              "      <td>0.6328</td>\n",
              "    </tr>\n",
              "    <tr>\n",
              "      <th>6</th>\n",
              "      <td>7</td>\n",
              "      <td>0.9820</td>\n",
              "      <td>0.6306</td>\n",
              "      <td>0.9859</td>\n",
              "      <td>0.6330</td>\n",
              "    </tr>\n",
              "    <tr>\n",
              "      <th>7</th>\n",
              "      <td>8</td>\n",
              "      <td>0.9519</td>\n",
              "      <td>0.6463</td>\n",
              "      <td>0.9614</td>\n",
              "      <td>0.6456</td>\n",
              "    </tr>\n",
              "    <tr>\n",
              "      <th>8</th>\n",
              "      <td>9</td>\n",
              "      <td>0.9286</td>\n",
              "      <td>0.6516</td>\n",
              "      <td>0.9285</td>\n",
              "      <td>0.6478</td>\n",
              "    </tr>\n",
              "    <tr>\n",
              "      <th>9</th>\n",
              "      <td>10</td>\n",
              "      <td>0.9037</td>\n",
              "      <td>0.6631</td>\n",
              "      <td>0.9402</td>\n",
              "      <td>0.6537</td>\n",
              "    </tr>\n",
              "    <tr>\n",
              "      <th>10</th>\n",
              "      <td>11</td>\n",
              "      <td>0.8825</td>\n",
              "      <td>0.6712</td>\n",
              "      <td>0.9200</td>\n",
              "      <td>0.6682</td>\n",
              "    </tr>\n",
              "    <tr>\n",
              "      <th>11</th>\n",
              "      <td>12</td>\n",
              "      <td>0.8659</td>\n",
              "      <td>0.6805</td>\n",
              "      <td>0.9275</td>\n",
              "      <td>0.6584</td>\n",
              "    </tr>\n",
              "    <tr>\n",
              "      <th>12</th>\n",
              "      <td>13</td>\n",
              "      <td>0.8433</td>\n",
              "      <td>0.6848</td>\n",
              "      <td>0.9231</td>\n",
              "      <td>0.6670</td>\n",
              "    </tr>\n",
              "    <tr>\n",
              "      <th>13</th>\n",
              "      <td>14</td>\n",
              "      <td>0.8213</td>\n",
              "      <td>0.6976</td>\n",
              "      <td>0.9310</td>\n",
              "      <td>0.6617</td>\n",
              "    </tr>\n",
              "    <tr>\n",
              "      <th>14</th>\n",
              "      <td>15</td>\n",
              "      <td>0.8100</td>\n",
              "      <td>0.7012</td>\n",
              "      <td>0.9243</td>\n",
              "      <td>0.6562</td>\n",
              "    </tr>\n",
              "    <tr>\n",
              "      <th>15</th>\n",
              "      <td>16</td>\n",
              "      <td>0.7859</td>\n",
              "      <td>0.7098</td>\n",
              "      <td>0.8922</td>\n",
              "      <td>0.6838</td>\n",
              "    </tr>\n",
              "    <tr>\n",
              "      <th>16</th>\n",
              "      <td>17</td>\n",
              "      <td>0.7632</td>\n",
              "      <td>0.7189</td>\n",
              "      <td>0.9205</td>\n",
              "      <td>0.6673</td>\n",
              "    </tr>\n",
              "    <tr>\n",
              "      <th>17</th>\n",
              "      <td>18</td>\n",
              "      <td>0.7454</td>\n",
              "      <td>0.7258</td>\n",
              "      <td>0.9394</td>\n",
              "      <td>0.6762</td>\n",
              "    </tr>\n",
              "    <tr>\n",
              "      <th>18</th>\n",
              "      <td>19</td>\n",
              "      <td>0.7281</td>\n",
              "      <td>0.7315</td>\n",
              "      <td>0.9081</td>\n",
              "      <td>0.6746</td>\n",
              "    </tr>\n",
              "    <tr>\n",
              "      <th>19</th>\n",
              "      <td>20</td>\n",
              "      <td>0.7059</td>\n",
              "      <td>0.7419</td>\n",
              "      <td>0.9463</td>\n",
              "      <td>0.6679</td>\n",
              "    </tr>\n",
              "    <tr>\n",
              "      <th>20</th>\n",
              "      <td>21</td>\n",
              "      <td>0.6963</td>\n",
              "      <td>0.7441</td>\n",
              "      <td>0.8965</td>\n",
              "      <td>0.6821</td>\n",
              "    </tr>\n",
              "    <tr>\n",
              "      <th>21</th>\n",
              "      <td>22</td>\n",
              "      <td>0.6756</td>\n",
              "      <td>0.7525</td>\n",
              "      <td>0.9041</td>\n",
              "      <td>0.6871</td>\n",
              "    </tr>\n",
              "    <tr>\n",
              "      <th>22</th>\n",
              "      <td>23</td>\n",
              "      <td>0.6620</td>\n",
              "      <td>0.7608</td>\n",
              "      <td>0.9075</td>\n",
              "      <td>0.6771</td>\n",
              "    </tr>\n",
              "    <tr>\n",
              "      <th>23</th>\n",
              "      <td>24</td>\n",
              "      <td>0.6476</td>\n",
              "      <td>0.7635</td>\n",
              "      <td>0.9661</td>\n",
              "      <td>0.6707</td>\n",
              "    </tr>\n",
              "    <tr>\n",
              "      <th>24</th>\n",
              "      <td>25</td>\n",
              "      <td>0.6269</td>\n",
              "      <td>0.7715</td>\n",
              "      <td>0.9455</td>\n",
              "      <td>0.6821</td>\n",
              "    </tr>\n",
              "  </tbody>\n",
              "</table>\n",
              "</div>\n",
              "    <div class=\"colab-df-buttons\">\n",
              "\n",
              "  <div class=\"colab-df-container\">\n",
              "    <button class=\"colab-df-convert\" onclick=\"convertToInteractive('df-bdaa7467-0b4e-4962-b4a8-3e400b2d2e3e')\"\n",
              "            title=\"Convert this dataframe to an interactive table.\"\n",
              "            style=\"display:none;\">\n",
              "\n",
              "  <svg xmlns=\"http://www.w3.org/2000/svg\" height=\"24px\" viewBox=\"0 -960 960 960\">\n",
              "    <path d=\"M120-120v-720h720v720H120Zm60-500h600v-160H180v160Zm220 220h160v-160H400v160Zm0 220h160v-160H400v160ZM180-400h160v-160H180v160Zm440 0h160v-160H620v160ZM180-180h160v-160H180v160Zm440 0h160v-160H620v160Z\"/>\n",
              "  </svg>\n",
              "    </button>\n",
              "\n",
              "  <style>\n",
              "    .colab-df-container {\n",
              "      display:flex;\n",
              "      gap: 12px;\n",
              "    }\n",
              "\n",
              "    .colab-df-convert {\n",
              "      background-color: #E8F0FE;\n",
              "      border: none;\n",
              "      border-radius: 50%;\n",
              "      cursor: pointer;\n",
              "      display: none;\n",
              "      fill: #1967D2;\n",
              "      height: 32px;\n",
              "      padding: 0 0 0 0;\n",
              "      width: 32px;\n",
              "    }\n",
              "\n",
              "    .colab-df-convert:hover {\n",
              "      background-color: #E2EBFA;\n",
              "      box-shadow: 0px 1px 2px rgba(60, 64, 67, 0.3), 0px 1px 3px 1px rgba(60, 64, 67, 0.15);\n",
              "      fill: #174EA6;\n",
              "    }\n",
              "\n",
              "    .colab-df-buttons div {\n",
              "      margin-bottom: 4px;\n",
              "    }\n",
              "\n",
              "    [theme=dark] .colab-df-convert {\n",
              "      background-color: #3B4455;\n",
              "      fill: #D2E3FC;\n",
              "    }\n",
              "\n",
              "    [theme=dark] .colab-df-convert:hover {\n",
              "      background-color: #434B5C;\n",
              "      box-shadow: 0px 1px 3px 1px rgba(0, 0, 0, 0.15);\n",
              "      filter: drop-shadow(0px 1px 2px rgba(0, 0, 0, 0.3));\n",
              "      fill: #FFFFFF;\n",
              "    }\n",
              "  </style>\n",
              "\n",
              "    <script>\n",
              "      const buttonEl =\n",
              "        document.querySelector('#df-bdaa7467-0b4e-4962-b4a8-3e400b2d2e3e button.colab-df-convert');\n",
              "      buttonEl.style.display =\n",
              "        google.colab.kernel.accessAllowed ? 'block' : 'none';\n",
              "\n",
              "      async function convertToInteractive(key) {\n",
              "        const element = document.querySelector('#df-bdaa7467-0b4e-4962-b4a8-3e400b2d2e3e');\n",
              "        const dataTable =\n",
              "          await google.colab.kernel.invokeFunction('convertToInteractive',\n",
              "                                                    [key], {});\n",
              "        if (!dataTable) return;\n",
              "\n",
              "        const docLinkHtml = 'Like what you see? Visit the ' +\n",
              "          '<a target=\"_blank\" href=https://colab.research.google.com/notebooks/data_table.ipynb>data table notebook</a>'\n",
              "          + ' to learn more about interactive tables.';\n",
              "        element.innerHTML = '';\n",
              "        dataTable['output_type'] = 'display_data';\n",
              "        await google.colab.output.renderOutput(dataTable, element);\n",
              "        const docLink = document.createElement('div');\n",
              "        docLink.innerHTML = docLinkHtml;\n",
              "        element.appendChild(docLink);\n",
              "      }\n",
              "    </script>\n",
              "  </div>\n",
              "\n",
              "\n",
              "<div id=\"df-34474a27-bec8-4027-9f39-73faebadec0d\">\n",
              "  <button class=\"colab-df-quickchart\" onclick=\"quickchart('df-34474a27-bec8-4027-9f39-73faebadec0d')\"\n",
              "            title=\"Suggest charts.\"\n",
              "            style=\"display:none;\">\n",
              "\n",
              "<svg xmlns=\"http://www.w3.org/2000/svg\" height=\"24px\"viewBox=\"0 0 24 24\"\n",
              "     width=\"24px\">\n",
              "    <g>\n",
              "        <path d=\"M19 3H5c-1.1 0-2 .9-2 2v14c0 1.1.9 2 2 2h14c1.1 0 2-.9 2-2V5c0-1.1-.9-2-2-2zM9 17H7v-7h2v7zm4 0h-2V7h2v10zm4 0h-2v-4h2v4z\"/>\n",
              "    </g>\n",
              "</svg>\n",
              "  </button>\n",
              "\n",
              "<style>\n",
              "  .colab-df-quickchart {\n",
              "      --bg-color: #E8F0FE;\n",
              "      --fill-color: #1967D2;\n",
              "      --hover-bg-color: #E2EBFA;\n",
              "      --hover-fill-color: #174EA6;\n",
              "      --disabled-fill-color: #AAA;\n",
              "      --disabled-bg-color: #DDD;\n",
              "  }\n",
              "\n",
              "  [theme=dark] .colab-df-quickchart {\n",
              "      --bg-color: #3B4455;\n",
              "      --fill-color: #D2E3FC;\n",
              "      --hover-bg-color: #434B5C;\n",
              "      --hover-fill-color: #FFFFFF;\n",
              "      --disabled-bg-color: #3B4455;\n",
              "      --disabled-fill-color: #666;\n",
              "  }\n",
              "\n",
              "  .colab-df-quickchart {\n",
              "    background-color: var(--bg-color);\n",
              "    border: none;\n",
              "    border-radius: 50%;\n",
              "    cursor: pointer;\n",
              "    display: none;\n",
              "    fill: var(--fill-color);\n",
              "    height: 32px;\n",
              "    padding: 0;\n",
              "    width: 32px;\n",
              "  }\n",
              "\n",
              "  .colab-df-quickchart:hover {\n",
              "    background-color: var(--hover-bg-color);\n",
              "    box-shadow: 0 1px 2px rgba(60, 64, 67, 0.3), 0 1px 3px 1px rgba(60, 64, 67, 0.15);\n",
              "    fill: var(--button-hover-fill-color);\n",
              "  }\n",
              "\n",
              "  .colab-df-quickchart-complete:disabled,\n",
              "  .colab-df-quickchart-complete:disabled:hover {\n",
              "    background-color: var(--disabled-bg-color);\n",
              "    fill: var(--disabled-fill-color);\n",
              "    box-shadow: none;\n",
              "  }\n",
              "\n",
              "  .colab-df-spinner {\n",
              "    border: 2px solid var(--fill-color);\n",
              "    border-color: transparent;\n",
              "    border-bottom-color: var(--fill-color);\n",
              "    animation:\n",
              "      spin 1s steps(1) infinite;\n",
              "  }\n",
              "\n",
              "  @keyframes spin {\n",
              "    0% {\n",
              "      border-color: transparent;\n",
              "      border-bottom-color: var(--fill-color);\n",
              "      border-left-color: var(--fill-color);\n",
              "    }\n",
              "    20% {\n",
              "      border-color: transparent;\n",
              "      border-left-color: var(--fill-color);\n",
              "      border-top-color: var(--fill-color);\n",
              "    }\n",
              "    30% {\n",
              "      border-color: transparent;\n",
              "      border-left-color: var(--fill-color);\n",
              "      border-top-color: var(--fill-color);\n",
              "      border-right-color: var(--fill-color);\n",
              "    }\n",
              "    40% {\n",
              "      border-color: transparent;\n",
              "      border-right-color: var(--fill-color);\n",
              "      border-top-color: var(--fill-color);\n",
              "    }\n",
              "    60% {\n",
              "      border-color: transparent;\n",
              "      border-right-color: var(--fill-color);\n",
              "    }\n",
              "    80% {\n",
              "      border-color: transparent;\n",
              "      border-right-color: var(--fill-color);\n",
              "      border-bottom-color: var(--fill-color);\n",
              "    }\n",
              "    90% {\n",
              "      border-color: transparent;\n",
              "      border-bottom-color: var(--fill-color);\n",
              "    }\n",
              "  }\n",
              "</style>\n",
              "\n",
              "  <script>\n",
              "    async function quickchart(key) {\n",
              "      const quickchartButtonEl =\n",
              "        document.querySelector('#' + key + ' button');\n",
              "      quickchartButtonEl.disabled = true;  // To prevent multiple clicks.\n",
              "      quickchartButtonEl.classList.add('colab-df-spinner');\n",
              "      try {\n",
              "        const charts = await google.colab.kernel.invokeFunction(\n",
              "            'suggestCharts', [key], {});\n",
              "      } catch (error) {\n",
              "        console.error('Error during call to suggestCharts:', error);\n",
              "      }\n",
              "      quickchartButtonEl.classList.remove('colab-df-spinner');\n",
              "      quickchartButtonEl.classList.add('colab-df-quickchart-complete');\n",
              "    }\n",
              "    (() => {\n",
              "      let quickchartButtonEl =\n",
              "        document.querySelector('#df-34474a27-bec8-4027-9f39-73faebadec0d button');\n",
              "      quickchartButtonEl.style.display =\n",
              "        google.colab.kernel.accessAllowed ? 'block' : 'none';\n",
              "    })();\n",
              "  </script>\n",
              "</div>\n",
              "    </div>\n",
              "  </div>\n"
            ]
          },
          "metadata": {},
          "execution_count": 40
        }
      ]
    }
  ]
}